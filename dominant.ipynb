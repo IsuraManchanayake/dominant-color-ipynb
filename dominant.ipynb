{
 "cells": [
  {
   "cell_type": "code",
   "execution_count": 1,
   "id": "b111bb5d-5981-4089-bace-636951e3678f",
   "metadata": {},
   "outputs": [],
   "source": [
    "import cv2 as cv\n",
    "from matplotlib.image import imread\n",
    "import matplotlib.pyplot as plt"
   ]
  },
  {
   "cell_type": "code",
   "execution_count": 2,
   "id": "199db88d-abcd-4424-9af6-b5539d4a51a7",
   "metadata": {},
   "outputs": [],
   "source": [
    "from sklearn.cluster import KMeans\n",
    "from sklearn_extra.cluster import KMedoids\n",
    "from skimage.transform import resize\n",
    "from skimage import img_as_ubyte"
   ]
  },
  {
   "cell_type": "code",
   "execution_count": 3,
   "id": "0a3c63fc-ff25-4884-a04c-726c61e7ad49",
   "metadata": {},
   "outputs": [],
   "source": [
    "import numpy as np"
   ]
  },
  {
   "cell_type": "code",
   "execution_count": 4,
   "id": "5099efb0-6043-42a1-899a-53f3c9e34a78",
   "metadata": {},
   "outputs": [],
   "source": [
    "from ipywidgets import Image\n",
    "from ipycanvas import Canvas"
   ]
  },
  {
   "cell_type": "code",
   "execution_count": 73,
   "id": "57602149-1b3e-4d57-8d0c-164dd8015fa2",
   "metadata": {},
   "outputs": [],
   "source": [
    "from PIL import Image as PILImage"
   ]
  },
  {
   "cell_type": "code",
   "execution_count": 58,
   "id": "d75fd585-8d6c-45c7-928c-ee7454a4985b",
   "metadata": {},
   "outputs": [],
   "source": [
    "import colorsys, glob\n",
    "from shutil import copyfile"
   ]
  },
  {
   "cell_type": "code",
   "execution_count": 7,
   "id": "be043f16-b9fc-4c94-8137-b5be4ab986bb",
   "metadata": {},
   "outputs": [],
   "source": [
    "def resize_dims(width, height, min_size=500):\n",
    "    if width < height:\n",
    "        return (min_size, int((height / width) * min_size))\n",
    "    return (int((width / height) * min_size), min_size)"
   ]
  },
  {
   "cell_type": "code",
   "execution_count": 8,
   "id": "79a5d354-f93f-451d-a6d0-a9931135863d",
   "metadata": {},
   "outputs": [],
   "source": [
    "def dom(path, n_clusters, min_size=500):\n",
    "    im = imread(path)\n",
    "    oh, ow = len(im), len(im[0])\n",
    "    \n",
    "    f = 2 / 3\n",
    "    \n",
    "    x1 = int((ow / 2) * (1 - f))\n",
    "    x2 = int((ow / 2) * (1 + f))\n",
    "    y1 = int((oh / 2) * (1 - f))\n",
    "    y2 = int((oh / 2) * (1 + f))\n",
    "    \n",
    "    imr = im[x1:x2, y1:y2]\n",
    "    h, w = len(imr), len(imr[0])\n",
    "    \n",
    "    width, height = resize_dims(w, h, min_size=min_size)\n",
    "    res_imr = img_as_ubyte(resize(imr, (height, width)))\n",
    "    fimr = res_imr.reshape((width*height, 3))\n",
    "    \n",
    "    kmeans = KMeans(n_clusters=n_clusters, random_state=0).fit(fimr)\n",
    "    clus = kmeans.cluster_centers_\n",
    "    \n",
    "    width, height = resize_dims(ow, oh, min_size=min_size)\n",
    "    res_im = img_as_ubyte(resize(im, (height, width)))\n",
    "    fim = res_im.reshape((width*height, 3))\n",
    "    \n",
    "    preds = kmeans.predict(fim)\n",
    "    \n",
    "    labels, counts = np.unique(preds, return_counts=True)\n",
    "    \n",
    "    clusters = []\n",
    "    for i in range(len(labels)):\n",
    "        label = labels[i]\n",
    "        count = counts[i]\n",
    "        color = tuple(map(int, clus[label]))\n",
    "        clusters.append((color, count))\n",
    "\n",
    "    return clusters, preds, width, height"
   ]
  },
  {
   "cell_type": "code",
   "execution_count": 9,
   "id": "0276c6e7-44f1-4fb6-9b7d-d6405a224acf",
   "metadata": {},
   "outputs": [],
   "source": [
    "def dom_show(path, n_clusters, min_size=500):\n",
    "    clusters, preds, width, height = dom(path, n_clusters, min_size)\n",
    "    \n",
    "    img = Image.from_file(path)\n",
    "\n",
    "    h = 500\n",
    "    w = (width / height) * h\n",
    "\n",
    "    canvas = Canvas(width=w*3, height=h)\n",
    "    canvas.draw_image(img, 0, 0, w, h)\n",
    "\n",
    "    y = 0\n",
    "    for color, count in clusters:\n",
    "        color = \"#%02x%02x%02x\" % color\n",
    "        hh = (count / (width * height)) * h\n",
    "\n",
    "        canvas.fill_style = color\n",
    "        canvas.fill_rect(w, y, w, hh)\n",
    "\n",
    "        y += hh\n",
    "    \n",
    "    preds_x = np.array(list(map(lambda x: np.array(clusters[x][0], dtype=np.uint8), preds)))\n",
    "    pred_img = preds_x.reshape(height, width, 3)\n",
    "    pred_img_file = PILImage.fromarray(pred_img, 'RGB')\n",
    "    fname = path.split('/')[-1]\n",
    "    pred_fname = f'img0/{fname}'\n",
    "    pred_img_file.save(pred_fname)\n",
    "    \n",
    "    img0 = Image.from_file(pred_fname)\n",
    "    canvas.draw_image(img0, 2 * w, 0, w, h)\n",
    "\n",
    "    return canvas"
   ]
  },
  {
   "cell_type": "code",
   "execution_count": 10,
   "id": "8a1c586d-3c0d-4260-9f39-2373a6648f03",
   "metadata": {},
   "outputs": [],
   "source": [
    "def dom_show_by_value(path, n_clusters, min_size=500):\n",
    "    clusters, preds, width, height = dom(path, n_clusters, min_size)\n",
    "    \n",
    "    img = Image.from_file(path)\n",
    "\n",
    "    h = 500\n",
    "    w = (width / height) * h\n",
    "\n",
    "    canvas = Canvas(width=w*2, height=h)\n",
    "    canvas.draw_image(img, 0, 0, w, h)\n",
    "        \n",
    "    modified_clusters = []\n",
    "    max_value = 0\n",
    "    max_value_color = [0, 0, 0]\n",
    "    max_value_color_count = 0\n",
    "    max_count = 0\n",
    "    max_count_color = [0, 0, 0]\n",
    "    for color, count in clusters:\n",
    "        _1, _2, v = colorsys.rgb_to_hsv(*[x/255 for x in color])\n",
    "        if v > 0.33:\n",
    "            modified_clusters.append((color, count))\n",
    "            if count > max_count:\n",
    "                max_count = count\n",
    "                max_count_color = color\n",
    "        if v >= max_value:\n",
    "            max_value = v\n",
    "            max_value_color = color\n",
    "            max_value_color_count = count\n",
    "            \n",
    "    if len(modified_clusters) == 0:\n",
    "        modified_clusters = [(max_value_color, max_value_color_count)]\n",
    "        max_count = max_value_color_count\n",
    "        max_count_color = max_value_color\n",
    "        \n",
    "    total_count = sum([x[1] for x in modified_clusters])\n",
    "        \n",
    "    y = 0\n",
    "    for color, count in modified_clusters:\n",
    "        color = \"#%02x%02x%02x\" % color\n",
    "        hh = (count / total_count) * h\n",
    "\n",
    "        canvas.fill_style = color\n",
    "        canvas.fill_rect(w, y, w, hh)\n",
    "\n",
    "        y += hh\n",
    "    \n",
    "    return canvas"
   ]
  },
  {
   "cell_type": "code",
   "execution_count": 24,
   "id": "ca19ad35-bbd1-4df7-9d84-c413ed5a47da",
   "metadata": {},
   "outputs": [
    {
     "data": {
      "application/vnd.jupyter.widget-view+json": {
       "model_id": "a21f9e9ea76c443b89de734efe86cd55",
       "version_major": 2,
       "version_minor": 0
      },
      "text/plain": [
       "Canvas(width=1000)"
      ]
     },
     "metadata": {},
     "output_type": "display_data"
    }
   ],
   "source": [
    "dom_show_by_value('img/2016-05-29 18.08.35 1260853863444241911_1514184470.jpg', 3)"
   ]
  },
  {
   "cell_type": "code",
   "execution_count": 27,
   "id": "1af44a71-f79f-4ac6-b65e-58eeb74db339",
   "metadata": {},
   "outputs": [],
   "source": [
    "def dom_hue(path, n_clusters, min_size=500):\n",
    "    clusters, preds, width, height = dom(path, n_clusters, min_size)\n",
    "        \n",
    "    modified_clusters = []\n",
    "    max_value = 0\n",
    "    max_value_color = [0, 0, 0]\n",
    "    max_value_color_count = 0\n",
    "    max_count = 0\n",
    "    max_count_color = [0, 0, 0]\n",
    "    for color, count in clusters:\n",
    "        _1, _2, v = colorsys.rgb_to_hsv(*[x/255 for x in color])\n",
    "        if v > 0.33:\n",
    "            modified_clusters.append((color, count))\n",
    "            if count > max_count:\n",
    "                max_count = count\n",
    "                max_count_color = color\n",
    "        if v >= max_value:\n",
    "            max_value = v\n",
    "            max_value_color = color\n",
    "            max_value_color_count = count\n",
    "            \n",
    "    if len(modified_clusters) == 0:\n",
    "        max_count_color = max_value_color\n",
    "    \n",
    "    total_count = sum([x[1] for x in modified_clusters])\n",
    "        \n",
    "    h, s, v = colorsys.rgb_to_hsv(*[x/255 for x in max_count_color])\n",
    "    return h, s, v"
   ]
  },
  {
   "cell_type": "code",
   "execution_count": 28,
   "id": "9e23ba06-6269-4d64-8e45-dce673e89745",
   "metadata": {},
   "outputs": [
    {
     "data": {
      "text/plain": [
       "(0.0, 0.0, 0.8941176470588236)"
      ]
     },
     "execution_count": 28,
     "metadata": {},
     "output_type": "execute_result"
    }
   ],
   "source": [
    "dom_hue('img\\\\2016-05-29 18.08.35 1260853863444241911_1514184470.jpg', 3)"
   ]
  },
  {
   "cell_type": "code",
   "execution_count": 14,
   "id": "55961b77-39b1-4444-ba43-4e6cca81847e",
   "metadata": {},
   "outputs": [],
   "source": [
    "files = glob.glob(\"img/*.jpg\")"
   ]
  },
  {
   "cell_type": "code",
   "execution_count": 53,
   "id": "9fe00917-b742-46f4-a96f-485c5ec00d7c",
   "metadata": {},
   "outputs": [
    {
     "name": "stdout",
     "output_type": "stream",
     "text": [
      "1, 2, 3, 4, 5, 6, 7, 8, 9, 10, 11, 12, 13, 14, 15, 16, 17, 18, 19, 20, 21, 22, 23, 24, 25, 26, 27, 28, 29, 30, 31, 32, 33, 34, 35, 36, 37, 38, 39, 40, 41, 42, 43, 44, 45, 46, 47, 48, 49, 50, 51, 52, 53, 54, 55, 56, 57, 58, 59, 60, 61, 62, 63, 64, 65, 66, 67, 68, 69, 70, 71, 72, 73, 74, 75, 76, 77, 78, 79, 80, 81, 82, 83, 84, 85, 86, 87, 88, 89, 90, 91, 92, 93, 94, 95, 96, 97, 98, 99, 100, 101, 102, 103, 104, 105, 106, 107, 108, 109, 110, 111, 112, 113, 114, 115, 116, 117, 118, 119, 120, 121, 122, 123, 124, 125, 126, 127, 128, 129, 130, 131, 132, 133, 134, 135, 136, 137, 138, 139, 140, 141, 142, 143, 144, 145, 146, 147, 148, 149, 150, 151, 152, 153, 154, 155, 156, 157, 158, 159, 160, 161, 162, 163, 164, 165, 166, 167, 168, 169, 170, 171, 172, 173, 174, 175, 176, 177, 178, 179, 180, 181, 182, 183, 184, 185, 186, 187, 188, 189, 190, 191, 192, 193, 194, 195, 196, 197, 198, 199, 200, 201, 202, 203, 204, 205, 206, 207, 208, 209, 210, 211, 212, 213, 214, 215, 216, 217, 218, 219, 220, 221, 222, 223, 224, 225, 226, 227, 228, 229, 230, 231, 232, 233, 234, 235, 236, 237, 238, 239, 240, 241, 242, 243, 244, 245, 246, 247, 248, 249, 250, 251, 252, 253, 254, 255, 256, 257, 258, 259, 260, 261, 262, 263, 264, 265, 266, 267, 268, 269, 270, 271, 272, 273, 274, 275, 276, 277, 278, 279, 280, 281, 282, 283, 284, 285, 286, 287, 288, 289, 290, 291, 292, 293, 294, 295, 296, 297, 298, 299, 300, 301, 302, 303, 304, 305, 306, 307, 308, 309, 310, 311, 312, 313, 314, 315, 316, 317, 318, 319, 320, 321, 322, 323, 324, 325, 326, 327, 328, 329, 330, 331, 332, 333, 334, 335, 336, 337, 338, 339, 340, 341, 342, 343, 344, 345, 346, 347, 348, 349, 350, 351, 352, 353, 354, 355, 356, 357, 358, 359, 360, 361, 362, 363, 364, 365, 366, 367, 368, 369, 370, 371, 372, 373, 374, 375, 376, 377, 378, 379, 380, 381, 382, 383, 384, 385, 386, 387, 388, 389, 390, 391, 392, 393, 394, 395, 396, 397, 398, 399, 400, 401, 402, 403, 404, 405, 406, 407, 408, 409, 410, 411, 412, 413, 414, 415, 416, 417, 418, 419, 420, 421, 422, 423, 424, 425, 426, 427, 428, 429, 430, 431, 432, 433, 434, 435, 436, 437, 438, 439, 440, 441, 442, 443, 444, 445, 446, 447, 448, 449, 450, 451, 452, 453, 454, 455, 456, 457, 458, 459, 460, 461, 462, 463, 464, 465, 466, 467, 468, 469, 470, 471, 472, 473, 474, 475, 476, 477, 478, 479, 480, 481, 482, 483, 484, 485, 486, 487, 488, 489, 490, 491, 492, 493, 494, 495, 496, 497, 498, 499, 500, 501, 502, 503, 504, 505, 506, 507, 508, "
     ]
    }
   ],
   "source": [
    "file_colors = []\n",
    "i = 0\n",
    "for file in files[::-1]:\n",
    "    h, s, v = dom_hue(file, 3)\n",
    "    r, g, b = colorsys.hsv_to_rgb(h, s, v)\n",
    "    file_colors.append((file, (r, g, b)))\n",
    "    \n",
    "#     img = imread(file)\n",
    "    \n",
    "#     f, axarr = plt.subplots(1, 2)\n",
    "#     axarr[0].imshow(img)\n",
    "#     axarr[0].axis('off')\n",
    "#     axarr[1].imshow([[(r, g, b)]])\n",
    "#     axarr[1].axis('off')\n",
    "#     plt.show()\n",
    "    \n",
    "    i += 1\n",
    "    print(i, end=', ')\n",
    "    \n",
    "#     if i > 20:\n",
    "#         break\n",
    "    "
   ]
  },
  {
   "cell_type": "code",
   "execution_count": 63,
   "id": "e4211a49-22cf-45a1-9f51-ea82ce4f7f93",
   "metadata": {},
   "outputs": [],
   "source": [
    "import math\n",
    "def step(r, g, b, repetitions=1):\n",
    "    lum = math.sqrt(.241 * r + .691 * g + .068 * b)\n",
    "    h, s, v = colorsys.rgb_to_hsv(r, g, b)\n",
    "    \n",
    "    h2 = int(h * repetitions)\n",
    "    lum2 = int(lum * repetitions)\n",
    "    v2 = int(v * repetitions)\n",
    "    return (h2, lum, v2)\n",
    "\n",
    "file_colors.sort(key=lambda x:step(x[1][0], x[1][1], x[1][2], 8))"
   ]
  },
  {
   "cell_type": "code",
   "execution_count": null,
   "id": "89d61b74-5f4d-477a-8493-a328fb0a07f5",
   "metadata": {},
   "outputs": [],
   "source": [
    "for file, color in file_colors:\n",
    "    img = imread(file)\n",
    "    r, g, b = color\n",
    "    \n",
    "    f, axarr = plt.subplots(1, 2)\n",
    "    axarr[0].imshow(img)\n",
    "    axarr[0].axis('off')\n",
    "    axarr[1].imshow([[(r, g, b)]])\n",
    "    axarr[1].axis('off')\n",
    "    plt.show()\n",
    "    "
   ]
  },
  {
   "cell_type": "code",
   "execution_count": 65,
   "id": "01c11d5d-9272-4ef6-a50e-93df273edbb8",
   "metadata": {},
   "outputs": [],
   "source": [
    "i = 0\n",
    "for file, color in file_colors:\n",
    "    fname = file.split('\\\\')[-1]\n",
    "    ofname = f'out/{i:03}.jpg'\n",
    "    i += 1\n",
    "    copyfile(file, ofname)"
   ]
  },
  {
   "cell_type": "code",
   "execution_count": 89,
   "id": "b8d50934-8276-4915-afee-60f880d7da3a",
   "metadata": {},
   "outputs": [],
   "source": [
    "file_list = [file for file, color in file_colors]\n",
    "\n",
    "def create_collage(width, height, listofimages):\n",
    "    cols = 20\n",
    "    rows = 25\n",
    "    ts = 100\n",
    "    size = ts, ts\n",
    "    new_im = PILImage.new('RGB', (width, height))\n",
    "    ims = []\n",
    "    for p in listofimages:\n",
    "        im = PILImage.open(p)\n",
    "        w, h = im.size\n",
    "        cw, ch = resize_dims(w, h, ts)\n",
    "        im = im.resize((cw, ch), PILImage.ANTIALIAS)\n",
    "        if w < h:\n",
    "            l = 0\n",
    "            r = ts\n",
    "            t = ch / 2 - ts / 2\n",
    "            b = ch / 2 + ts / 2\n",
    "        else:\n",
    "            t = 0\n",
    "            b = ts\n",
    "            l = cw / 2 - ts / 2\n",
    "            r = cw / 2 + ts / 2\n",
    "        im = im.crop((l, t, r, b))\n",
    "        ims.append(im)\n",
    "    i = 0\n",
    "    x = 0\n",
    "    y = 0\n",
    "    for row in range(rows):\n",
    "        for col in range(cols):\n",
    "            new_im.paste(ims[i], (x, y))\n",
    "            i += 1\n",
    "            x += ts\n",
    "        y += ts\n",
    "        x = 0\n",
    "\n",
    "    new_im.save('collage.jpg')\n",
    "\n",
    "create_collage(2000, 2500, file_list)"
   ]
  },
  {
   "cell_type": "code",
   "execution_count": null,
   "id": "54c832c2-bd14-432b-a52a-288827789335",
   "metadata": {},
   "outputs": [],
   "source": []
  }
 ],
 "metadata": {
  "kernelspec": {
   "display_name": "Python 3",
   "language": "python",
   "name": "python3"
  },
  "language_info": {
   "codemirror_mode": {
    "name": "ipython",
    "version": 3
   },
   "file_extension": ".py",
   "mimetype": "text/x-python",
   "name": "python",
   "nbconvert_exporter": "python",
   "pygments_lexer": "ipython3",
   "version": "3.9.0"
  }
 },
 "nbformat": 4,
 "nbformat_minor": 5
}
